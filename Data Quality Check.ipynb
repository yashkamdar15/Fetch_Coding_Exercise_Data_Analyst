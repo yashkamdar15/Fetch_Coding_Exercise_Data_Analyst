{
 "cells": [
  {
   "cell_type": "code",
   "execution_count": 1,
   "id": "d0cbb056-9de2-41b4-b625-dd001c488a8b",
   "metadata": {},
   "outputs": [
    {
     "name": "stdout",
     "output_type": "stream",
     "text": [
      "Requirement already satisfied: matplotlib in /Library/Frameworks/Python.framework/Versions/3.11/lib/python3.11/site-packages (3.7.2)\n",
      "Requirement already satisfied: contourpy>=1.0.1 in /Library/Frameworks/Python.framework/Versions/3.11/lib/python3.11/site-packages (from matplotlib) (1.1.0)\n",
      "Requirement already satisfied: cycler>=0.10 in /Library/Frameworks/Python.framework/Versions/3.11/lib/python3.11/site-packages (from matplotlib) (0.11.0)\n",
      "Requirement already satisfied: fonttools>=4.22.0 in /Library/Frameworks/Python.framework/Versions/3.11/lib/python3.11/site-packages (from matplotlib) (4.42.0)\n",
      "Requirement already satisfied: kiwisolver>=1.0.1 in /Library/Frameworks/Python.framework/Versions/3.11/lib/python3.11/site-packages (from matplotlib) (1.4.4)\n",
      "Requirement already satisfied: numpy>=1.20 in /Library/Frameworks/Python.framework/Versions/3.11/lib/python3.11/site-packages (from matplotlib) (1.25.1)\n",
      "Requirement already satisfied: packaging>=20.0 in /Library/Frameworks/Python.framework/Versions/3.11/lib/python3.11/site-packages (from matplotlib) (23.1)\n",
      "Requirement already satisfied: pillow>=6.2.0 in /Library/Frameworks/Python.framework/Versions/3.11/lib/python3.11/site-packages (from matplotlib) (10.0.0)\n",
      "Requirement already satisfied: pyparsing<3.1,>=2.3.1 in /Library/Frameworks/Python.framework/Versions/3.11/lib/python3.11/site-packages (from matplotlib) (3.0.9)\n",
      "Requirement already satisfied: python-dateutil>=2.7 in /Library/Frameworks/Python.framework/Versions/3.11/lib/python3.11/site-packages (from matplotlib) (2.8.2)\n",
      "Requirement already satisfied: six>=1.5 in /Library/Frameworks/Python.framework/Versions/3.11/lib/python3.11/site-packages (from python-dateutil>=2.7->matplotlib) (1.16.0)\n"
     ]
    }
   ],
   "source": [
    "!pip install matplotlib"
   ]
  },
  {
   "cell_type": "code",
   "execution_count": 2,
   "id": "475e46ed-633b-4156-beb1-0962e2ec62c3",
   "metadata": {},
   "outputs": [],
   "source": [
    "import pandas as pd"
   ]
  },
  {
   "cell_type": "code",
   "execution_count": 3,
   "id": "2d4c2e77-2018-453b-ac6d-9f0ee06d40ef",
   "metadata": {},
   "outputs": [],
   "source": [
    "# Loading JSON data into DataFrames\n",
    "users_df = pd.read_json('users.json', lines=True)\n",
    "receipts_df = pd.read_json('receipts.json', lines=True)\n",
    "brands_df = pd.read_json('brands.json', lines=True)"
   ]
  },
  {
   "cell_type": "code",
   "execution_count": 4,
   "id": "d539ee3c-5151-4be8-8c5d-5fceb66d41ae",
   "metadata": {},
   "outputs": [],
   "source": [
    "# Missing Values\n",
    "users_missing = users_df.isna().sum()\n",
    "receipts_missing = receipts_df.isna().sum()\n",
    "brands_missing = brands_df.isna().sum()"
   ]
  },
  {
   "cell_type": "code",
   "execution_count": 5,
   "id": "b038aa6f-bde5-4777-9bf0-c6c88b891b2e",
   "metadata": {},
   "outputs": [
    {
     "name": "stdout",
     "output_type": "stream",
     "text": [
      "Missing Values in Users table\n",
      "_id              0\n",
      "active           0\n",
      "createdDate      0\n",
      "lastLogin       62\n",
      "role             0\n",
      "signUpSource    48\n",
      "state           56\n",
      "dtype: int64\n"
     ]
    }
   ],
   "source": [
    "print(\"Missing Values in Users table\")\n",
    "print(users_missing)"
   ]
  },
  {
   "cell_type": "code",
   "execution_count": 6,
   "id": "b5c284f3-043f-4e00-9b06-e704cb74b1aa",
   "metadata": {},
   "outputs": [
    {
     "name": "stdout",
     "output_type": "stream",
     "text": [
      "Missing Values in Receipts table\n",
      "_id                          0\n",
      "bonusPointsEarned          575\n",
      "bonusPointsEarnedReason    575\n",
      "createDate                   0\n",
      "dateScanned                  0\n",
      "finishedDate               551\n",
      "modifyDate                   0\n",
      "pointsAwardedDate          582\n",
      "pointsEarned               510\n",
      "purchaseDate               448\n",
      "purchasedItemCount         484\n",
      "rewardsReceiptItemList     440\n",
      "rewardsReceiptStatus         0\n",
      "totalSpent                 435\n",
      "userId                       0\n",
      "dtype: int64\n"
     ]
    }
   ],
   "source": [
    "print(\"Missing Values in Receipts table\")\n",
    "print(receipts_missing)"
   ]
  },
  {
   "cell_type": "code",
   "execution_count": 7,
   "id": "6dc997a4-20d8-4cab-a59f-7de717605490",
   "metadata": {},
   "outputs": [
    {
     "name": "stdout",
     "output_type": "stream",
     "text": [
      "Missing Values in Brands table\n",
      "_id               0\n",
      "barcode           0\n",
      "category        155\n",
      "categoryCode    650\n",
      "cpg               0\n",
      "name              0\n",
      "topBrand        612\n",
      "brandCode       234\n",
      "dtype: int64\n"
     ]
    }
   ],
   "source": [
    "print(\"Missing Values in Brands table\")\n",
    "print(brands_missing)"
   ]
  },
  {
   "cell_type": "code",
   "execution_count": 8,
   "id": "875a51af-653e-47c4-88d5-2db24c6d61b8",
   "metadata": {},
   "outputs": [
    {
     "name": "stdout",
     "output_type": "stream",
     "text": [
      "Duplicate UserID:\n",
      "                                      _id  active               createdDate  \\\n",
      "0    {'$oid': '5ff1e194b6a9d73a3a9f1052'}    True  {'$date': 1609687444800}   \n",
      "1    {'$oid': '5ff1e194b6a9d73a3a9f1052'}    True  {'$date': 1609687444800}   \n",
      "2    {'$oid': '5ff1e194b6a9d73a3a9f1052'}    True  {'$date': 1609687444800}   \n",
      "3    {'$oid': '5ff1e1eacfcf6c399c274ae6'}    True  {'$date': 1609687530554}   \n",
      "4    {'$oid': '5ff1e194b6a9d73a3a9f1052'}    True  {'$date': 1609687444800}   \n",
      "..                                    ...     ...                       ...   \n",
      "490  {'$oid': '54943462e4b07e684157a532'}    True  {'$date': 1418998882381}   \n",
      "491  {'$oid': '54943462e4b07e684157a532'}    True  {'$date': 1418998882381}   \n",
      "492  {'$oid': '54943462e4b07e684157a532'}    True  {'$date': 1418998882381}   \n",
      "493  {'$oid': '54943462e4b07e684157a532'}    True  {'$date': 1418998882381}   \n",
      "494  {'$oid': '54943462e4b07e684157a532'}    True  {'$date': 1418998882381}   \n",
      "\n",
      "                    lastLogin         role signUpSource state  \n",
      "0    {'$date': 1609687537858}     consumer        Email    WI  \n",
      "1    {'$date': 1609687537858}     consumer        Email    WI  \n",
      "2    {'$date': 1609687537858}     consumer        Email    WI  \n",
      "3    {'$date': 1609687530597}     consumer        Email    WI  \n",
      "4    {'$date': 1609687537858}     consumer        Email    WI  \n",
      "..                        ...          ...          ...   ...  \n",
      "490  {'$date': 1614963143204}  fetch-staff          NaN   NaN  \n",
      "491  {'$date': 1614963143204}  fetch-staff          NaN   NaN  \n",
      "492  {'$date': 1614963143204}  fetch-staff          NaN   NaN  \n",
      "493  {'$date': 1614963143204}  fetch-staff          NaN   NaN  \n",
      "494  {'$date': 1614963143204}  fetch-staff          NaN   NaN  \n",
      "\n",
      "[353 rows x 7 columns]\n",
      "Duplicate ReceiptID:\n",
      "Empty DataFrame\n",
      "Columns: [_id, bonusPointsEarned, bonusPointsEarnedReason, createDate, dateScanned, finishedDate, modifyDate, pointsAwardedDate, pointsEarned, purchaseDate, purchasedItemCount, rewardsReceiptItemList, rewardsReceiptStatus, totalSpent, userId]\n",
      "Index: []\n",
      "Duplicate BrandID:\n",
      "Empty DataFrame\n",
      "Columns: [_id, barcode, category, categoryCode, cpg, name, topBrand, brandCode]\n",
      "Index: []\n"
     ]
    }
   ],
   "source": [
    "# Duplicate Rows\n",
    "\n",
    "user_duplicates = users_df[users_df.duplicated(subset='_id', keep=False)]\n",
    "print(\"Duplicate UserID:\")\n",
    "print(user_duplicates)\n",
    "\n",
    "receipts_duplicates = receipts_df[receipts_df.duplicated(subset='_id', keep=False)]\n",
    "print(\"Duplicate ReceiptID:\")\n",
    "print(receipts_duplicates)\n",
    "\n",
    "brands_duplicates = brands_df[brands_df.duplicated(subset='_id', keep=False)]\n",
    "print(\"Duplicate BrandID:\")\n",
    "print(brands_duplicates)\n",
    "\n",
    "#There are 353 duplicate userIDs found.\n",
    "#There are no duplicate ReceiptID or BrandID found."
   ]
  },
  {
   "cell_type": "code",
   "execution_count": 9,
   "id": "6ed10fb5-85d5-435a-9a2d-5248d097ac28",
   "metadata": {},
   "outputs": [
    {
     "data": {
      "text/html": [
       "<div>\n",
       "<style scoped>\n",
       "    .dataframe tbody tr th:only-of-type {\n",
       "        vertical-align: middle;\n",
       "    }\n",
       "\n",
       "    .dataframe tbody tr th {\n",
       "        vertical-align: top;\n",
       "    }\n",
       "\n",
       "    .dataframe thead th {\n",
       "        text-align: right;\n",
       "    }\n",
       "</style>\n",
       "<table border=\"1\" class=\"dataframe\">\n",
       "  <thead>\n",
       "    <tr style=\"text-align: right;\">\n",
       "      <th></th>\n",
       "      <th>_id</th>\n",
       "      <th>bonusPointsEarned</th>\n",
       "      <th>bonusPointsEarnedReason</th>\n",
       "      <th>createDate</th>\n",
       "      <th>dateScanned</th>\n",
       "      <th>finishedDate</th>\n",
       "      <th>modifyDate</th>\n",
       "      <th>pointsAwardedDate</th>\n",
       "      <th>pointsEarned</th>\n",
       "      <th>purchaseDate</th>\n",
       "      <th>purchasedItemCount</th>\n",
       "      <th>rewardsReceiptItemList</th>\n",
       "      <th>rewardsReceiptStatus</th>\n",
       "      <th>totalSpent</th>\n",
       "      <th>userId</th>\n",
       "    </tr>\n",
       "  </thead>\n",
       "  <tbody>\n",
       "    <tr>\n",
       "      <th>314</th>\n",
       "      <td>{'$oid': '60025cb80a720f05f300008d'}</td>\n",
       "      <td>750.0</td>\n",
       "      <td>Receipt number 1 completed, bonus point schedu...</td>\n",
       "      <td>{'$date': 1610767544000}</td>\n",
       "      <td>{'$date': 1610767544000}</td>\n",
       "      <td>{'$date': 1610767915000}</td>\n",
       "      <td>{'$date': 1610767925000}</td>\n",
       "      <td>{'$date': 1610767915000}</td>\n",
       "      <td>1658.3</td>\n",
       "      <td>{'$date': 1610668800000}</td>\n",
       "      <td>335.0</td>\n",
       "      <td>[{'description': 'EMIL' S SAUSAGE MUSHROOM PIZ...</td>\n",
       "      <td>FINISHED</td>\n",
       "      <td>1177.84</td>\n",
       "      <td>60025c65fb296c4ef805d9e6</td>\n",
       "    </tr>\n",
       "    <tr>\n",
       "      <th>419</th>\n",
       "      <td>{'$oid': '600996ac0a720f05fa000134'}</td>\n",
       "      <td>750.0</td>\n",
       "      <td>Receipt number 1 completed, bonus point schedu...</td>\n",
       "      <td>{'$date': 1611241132000}</td>\n",
       "      <td>{'$date': 1611241132000}</td>\n",
       "      <td>{'$date': 1611241885000}</td>\n",
       "      <td>{'$date': 1611242168000}</td>\n",
       "      <td>{'$date': 1611241885000}</td>\n",
       "      <td>6257.3</td>\n",
       "      <td>{'$date': 1610841600000}</td>\n",
       "      <td>348.0</td>\n",
       "      <td>[{'barcode': '012000809941', 'brandCode': 'PEP...</td>\n",
       "      <td>FINISHED</td>\n",
       "      <td>1198.68</td>\n",
       "      <td>6009969150b33111fd61f6d9</td>\n",
       "    </tr>\n",
       "    <tr>\n",
       "      <th>423</th>\n",
       "      <td>{'$oid': '600a1a8d0a7214ada2000008'}</td>\n",
       "      <td>750.0</td>\n",
       "      <td>Receipt number 1 completed, bonus point schedu...</td>\n",
       "      <td>{'$date': 1611274892000}</td>\n",
       "      <td>{'$date': 1611274892000}</td>\n",
       "      <td>{'$date': 1611275413000}</td>\n",
       "      <td>{'$date': 1611275464000}</td>\n",
       "      <td>{'$date': 1611275413000}</td>\n",
       "      <td>1178.7</td>\n",
       "      <td>{'$date': 1611187200000}</td>\n",
       "      <td>214.0</td>\n",
       "      <td>[{'barcode': '041000022623', 'brandCode': 'KNO...</td>\n",
       "      <td>FINISHED</td>\n",
       "      <td>1183.10</td>\n",
       "      <td>600a1a457d983a124e9adb9b</td>\n",
       "    </tr>\n",
       "    <tr>\n",
       "      <th>446</th>\n",
       "      <td>{'$oid': '600f24970a720f053500002f'}</td>\n",
       "      <td>NaN</td>\n",
       "      <td>NaN</td>\n",
       "      <td>{'$date': 1611605143000}</td>\n",
       "      <td>{'$date': 1611605143000}</td>\n",
       "      <td>NaN</td>\n",
       "      <td>{'$date': 1611606325000}</td>\n",
       "      <td>NaN</td>\n",
       "      <td>NaN</td>\n",
       "      <td>{'$date': 1611532800000}</td>\n",
       "      <td>599.0</td>\n",
       "      <td>[{'brandCode': 'BETTY CROCKER', 'description':...</td>\n",
       "      <td>FLAGGED</td>\n",
       "      <td>4368.80</td>\n",
       "      <td>600f20c15edb787dce060911</td>\n",
       "    </tr>\n",
       "    <tr>\n",
       "      <th>447</th>\n",
       "      <td>{'$oid': '600f0cc70a720f053500002c'}</td>\n",
       "      <td>NaN</td>\n",
       "      <td>NaN</td>\n",
       "      <td>{'$date': 1611599047000}</td>\n",
       "      <td>{'$date': 1611599047000}</td>\n",
       "      <td>NaN</td>\n",
       "      <td>{'$date': 1611599887000}</td>\n",
       "      <td>NaN</td>\n",
       "      <td>NaN</td>\n",
       "      <td>{'$date': 1611532800000}</td>\n",
       "      <td>303.0</td>\n",
       "      <td>[{'brandCode': 'BETTY CROCKER', 'description':...</td>\n",
       "      <td>FLAGGED</td>\n",
       "      <td>2084.82</td>\n",
       "      <td>600f00d05edb787dce05fb84</td>\n",
       "    </tr>\n",
       "  </tbody>\n",
       "</table>\n",
       "</div>"
      ],
      "text/plain": [
       "                                      _id  bonusPointsEarned  \\\n",
       "314  {'$oid': '60025cb80a720f05f300008d'}              750.0   \n",
       "419  {'$oid': '600996ac0a720f05fa000134'}              750.0   \n",
       "423  {'$oid': '600a1a8d0a7214ada2000008'}              750.0   \n",
       "446  {'$oid': '600f24970a720f053500002f'}                NaN   \n",
       "447  {'$oid': '600f0cc70a720f053500002c'}                NaN   \n",
       "\n",
       "                               bonusPointsEarnedReason  \\\n",
       "314  Receipt number 1 completed, bonus point schedu...   \n",
       "419  Receipt number 1 completed, bonus point schedu...   \n",
       "423  Receipt number 1 completed, bonus point schedu...   \n",
       "446                                                NaN   \n",
       "447                                                NaN   \n",
       "\n",
       "                   createDate               dateScanned  \\\n",
       "314  {'$date': 1610767544000}  {'$date': 1610767544000}   \n",
       "419  {'$date': 1611241132000}  {'$date': 1611241132000}   \n",
       "423  {'$date': 1611274892000}  {'$date': 1611274892000}   \n",
       "446  {'$date': 1611605143000}  {'$date': 1611605143000}   \n",
       "447  {'$date': 1611599047000}  {'$date': 1611599047000}   \n",
       "\n",
       "                 finishedDate                modifyDate  \\\n",
       "314  {'$date': 1610767915000}  {'$date': 1610767925000}   \n",
       "419  {'$date': 1611241885000}  {'$date': 1611242168000}   \n",
       "423  {'$date': 1611275413000}  {'$date': 1611275464000}   \n",
       "446                       NaN  {'$date': 1611606325000}   \n",
       "447                       NaN  {'$date': 1611599887000}   \n",
       "\n",
       "            pointsAwardedDate  pointsEarned              purchaseDate  \\\n",
       "314  {'$date': 1610767915000}        1658.3  {'$date': 1610668800000}   \n",
       "419  {'$date': 1611241885000}        6257.3  {'$date': 1610841600000}   \n",
       "423  {'$date': 1611275413000}        1178.7  {'$date': 1611187200000}   \n",
       "446                       NaN           NaN  {'$date': 1611532800000}   \n",
       "447                       NaN           NaN  {'$date': 1611532800000}   \n",
       "\n",
       "     purchasedItemCount                             rewardsReceiptItemList  \\\n",
       "314               335.0  [{'description': 'EMIL' S SAUSAGE MUSHROOM PIZ...   \n",
       "419               348.0  [{'barcode': '012000809941', 'brandCode': 'PEP...   \n",
       "423               214.0  [{'barcode': '041000022623', 'brandCode': 'KNO...   \n",
       "446               599.0  [{'brandCode': 'BETTY CROCKER', 'description':...   \n",
       "447               303.0  [{'brandCode': 'BETTY CROCKER', 'description':...   \n",
       "\n",
       "    rewardsReceiptStatus  totalSpent                    userId  \n",
       "314             FINISHED     1177.84  60025c65fb296c4ef805d9e6  \n",
       "419             FINISHED     1198.68  6009969150b33111fd61f6d9  \n",
       "423             FINISHED     1183.10  600a1a457d983a124e9adb9b  \n",
       "446              FLAGGED     4368.80  600f20c15edb787dce060911  \n",
       "447              FLAGGED     2084.82  600f00d05edb787dce05fb84  "
      ]
     },
     "execution_count": 9,
     "metadata": {},
     "output_type": "execute_result"
    }
   ],
   "source": [
    "# Outliers (for numeric columns)\n",
    "# Example: Check 'totalSpent' column in receipts_df\n",
    "mean = receipts_df['totalSpent'].mean()\n",
    "std_dev = receipts_df['totalSpent'].std()\n",
    "outliers = receipts_df[(receipts_df['totalSpent'] > mean + 3 * std_dev) | (receipts_df['totalSpent'] < mean - 3 * std_dev)]\n",
    "\n",
    "outliers.head()\n",
    "\n",
    "\n",
    "#We found 5 outliers in the totalSpent column."
   ]
  },
  {
   "cell_type": "code",
   "execution_count": 10,
   "id": "11a66b8b-5086-4576-9e9c-482e31edba3c",
   "metadata": {},
   "outputs": [
    {
     "name": "stdout",
     "output_type": "stream",
     "text": [
      "\n",
      "Invalid TotalSpent Values:\n",
      "Empty DataFrame\n",
      "Columns: [_id, bonusPointsEarned, bonusPointsEarnedReason, createDate, dateScanned, finishedDate, modifyDate, pointsAwardedDate, pointsEarned, purchaseDate, purchasedItemCount, rewardsReceiptItemList, rewardsReceiptStatus, totalSpent, userId]\n",
      "Index: []\n"
     ]
    }
   ],
   "source": [
    "# Invalid Values \n",
    "# Checking negative values in totalSpent column of Receipts table.\n",
    "invalid_spent = receipts_df[receipts_df['totalSpent'] < 0]\n",
    "\n",
    "print(\"\\nInvalid TotalSpent Values:\")\n",
    "print(invalid_spent)\n",
    "\n",
    "\n",
    "#There are no negative values found."
   ]
  },
  {
   "cell_type": "code",
   "execution_count": 11,
   "id": "fd077a6e-3ddb-466b-87a9-438b6c086891",
   "metadata": {},
   "outputs": [
    {
     "data": {
      "image/png": "[encoded data removed]",
      "text/plain": [
       "<Figure size 640x480 with 1 Axes>"
      ]
     },
     "metadata": {},
     "output_type": "display_data"
    }
   ],
   "source": [
    "# Visualization\n",
    "# Example: Create histograms or box plots to visualize numerical columns\n",
    "import matplotlib.pyplot as plt\n",
    "receipts_df['totalSpent'].plot(kind='box')\n",
    "plt.show()\n",
    "\n",
    "# We can visualize the Outliers in the totalSpent column of Receipts table using the Box Plot."
   ]
  }
 ],
 "metadata": {
  "kernelspec": {
   "display_name": "Python 3 (ipykernel)",
   "language": "python",
   "name": "python3"
  },
  "language_info": {
   "codemirror_mode": {
    "name": "ipython",
    "version": 3
   },
   "file_extension": ".py",
   "mimetype": "text/x-python",
   "name": "python",
   "nbconvert_exporter": "python",
   "pygments_lexer": "ipython3",
   "version": "3.11.4"
  }
 },
 "nbformat": 4,
 "nbformat_minor": 5
}
